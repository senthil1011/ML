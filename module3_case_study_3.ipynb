{
 "cells": [
  {
   "cell_type": "code",
   "execution_count": null,
   "metadata": {},
   "outputs": [],
   "source": [
    "import pandas as pd\n",
    "import re\n",
    "file=str(\"FairDealCustomerData.csv\")\n",
    "df=pd.read_csv(file) \n",
    "df"
   ]
  },
  {
   "cell_type": "code",
   "execution_count": 6,
   "metadata": {},
   "outputs": [
    {
     "name": "stdout",
     "output_type": "stream",
     "text": [
      "\n",
      "Enter the Customer Name :(Type 'END' to quit) : victor\n",
      "\n",
      "Customer name is not in Database\n",
      "\n",
      "Enter the Customer Name : Victor\n",
      "\n",
      "Enter the product name : Prod001\n",
      "\n",
      "Enter the product code : 123\n",
      "\n",
      "Customer Full Name :  Victor\n",
      "\n",
      "Customer added to the List\n",
      "\n",
      "Enter the Customer Name :(Type 'END' to quit) : END\n"
     ]
    }
   ],
   "source": [
    "\n",
    "class Error(Exception):\n",
    "   \"\"\"Base class for other exceptions\"\"\"\n",
    "   pass\n",
    "\n",
    "class CustomerNotAllowedException(Error):\n",
    "   \"\"\"Raised when the input value is too small\"\"\"\n",
    "\n",
    "def checkcustomername(getname):\n",
    "    for i in range(len(df)) : \n",
    "        str = df.iloc[i, 1]\n",
    "        lname = df.iloc[i,0]\n",
    "        title = re.split(\"\\.\" ,str, 1)\n",
    "        titl = title[0].strip()\n",
    "        fname = re.split(\"\\s\" ,title[1], 2)\n",
    "        fname = fname[1].strip()\n",
    "        mname = re.split(\"\\s\" ,title[1])\n",
    "        mname = mname[2].strip()\n",
    "        blacklist = df.iloc[i, 2] \n",
    "        \n",
    "        if getname== fname:\n",
    "            print(\"\\nCustomer Full Name : \",titl,\".\",fname,mname,lname)\n",
    "            if blacklist==1:\n",
    "                print(\"\\nStatus : Customer is Blacklisted\")\n",
    "                raise CustomerNotAllowedException\n",
    "            else:\n",
    "                print(\"\\nStatus : Customer is Eligible\")\n",
    "            return(2)\n",
    "            break          \n",
    "    return(0)\n",
    "\n",
    "def createOrder(getname):\n",
    "        name = input(\"\\nCustomer name is not in Database\\n\\nEnter the Customer Name : \")\n",
    "        productname = input(\"\\nEnter the product name : \")\n",
    "        productcode  = input(\"\\nEnter the product code : \")\n",
    "        print(\"\\nCustomer Full Name : \",name)\n",
    "        print(\"\\nCustomer added to the List\")\n",
    "        \n",
    "var = 1\n",
    "while var == 1:\n",
    "    getname =input(\"\\nEnter the Customer Name :(Type 'END' to quit) : \")\n",
    "    if getname==\"END\":\n",
    "        break\n",
    "    else:  \n",
    "        getname =getname.strip()\n",
    "        result=checkcustomername(getname)\n",
    "    \n",
    "    if result==0:\n",
    "        createOrder(getname)\n",
    "\n"
   ]
  },
  {
   "cell_type": "code",
   "execution_count": null,
   "metadata": {},
   "outputs": [],
   "source": []
  }
 ],
 "metadata": {
  "kernelspec": {
   "display_name": "Python 3",
   "language": "python",
   "name": "python3"
  },
  "language_info": {
   "codemirror_mode": {
    "name": "ipython",
    "version": 3
   },
   "file_extension": ".py",
   "mimetype": "text/x-python",
   "name": "python",
   "nbconvert_exporter": "python",
   "pygments_lexer": "ipython3",
   "version": "3.7.3"
  }
 },
 "nbformat": 4,
 "nbformat_minor": 2
}
