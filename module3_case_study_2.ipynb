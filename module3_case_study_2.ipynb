{
 "cells": [
  {
   "cell_type": "code",
   "execution_count": null,
   "metadata": {},
   "outputs": [],
   "source": [
    "import pandas as pd\n",
    "file=str(\"bank-data.csv\")\n",
    "df=pd.read_csv(file) \n",
    "unique_jobs=df['job'].unique()\n",
    "age_min=df['age'].min()\n",
    "age_max=df['age'].max()\n",
    "print(unique_jobs)\n",
    "my_dict={}\n",
    "my_dict['min age']=age_min\n",
    "my_dict['max age']=age_max\n",
    "print(my_dict)\n",
    "var = 1\n",
    "while var == 1:\n",
    "    indata =input(\"\\nEnter the Profession (Type 'END' to quit) : \")\n",
    "    if indata==\"END\":\n",
    "        break\n",
    "    else:\n",
    "        for n in unique_jobs:\n",
    "            if indata.upper()==n.upper():\n",
    "                print(\"\\n\",indata,\" - Client is eligible for marketing campaign\")\n",
    "                inage =input(\"\\nEnter the Age to check loan eligibility : \")\n",
    "                inage=int(inage)\n",
    "                if inage<=age_max and inage>=age_min:     \n",
    "                    print(\"\\n\",\"Client is eligible for loan\")\n",
    "                else:\n",
    "                    print(\"\\n\",\"Client is Not eligible for loan\")\n",
    "                break\n",
    "        else:\n",
    "            print(\"\\n\",indata,\" - Client is Not eligible for marketing campaign\")"
   ]
  },
  {
   "cell_type": "code",
   "execution_count": null,
   "metadata": {},
   "outputs": [],
   "source": []
  }
 ],
 "metadata": {
  "kernelspec": {
   "display_name": "Python 3",
   "language": "python",
   "name": "python3"
  },
  "language_info": {
   "codemirror_mode": {
    "name": "ipython",
    "version": 3
   },
   "file_extension": ".py",
   "mimetype": "text/x-python",
   "name": "python",
   "nbconvert_exporter": "python",
   "pygments_lexer": "ipython3",
   "version": "3.7.4"
  }
 },
 "nbformat": 4,
 "nbformat_minor": 2
}
