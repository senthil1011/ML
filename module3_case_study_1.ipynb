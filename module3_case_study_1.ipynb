{
 "cells": [
  {
   "cell_type": "code",
   "execution_count": 92,
   "metadata": {},
   "outputs": [],
   "source": [
    "import math\n",
    "\n",
    "def step (up,down,left,right):\n",
    "    p1=[0,0]\n",
    "    p2=[0,0]\n",
    "    move = [\"up\",\"down\",\"left\",\"right\"]\n",
    "    stp =(up,down,left,right)\n",
    "    dist =0\n",
    "    for i in range(0,len(move),1):\n",
    "        p1=p2\n",
    "        if move[i] == \"up\":\n",
    "            p2=[0,stp[i]]    \n",
    "        elif move[i] == \"down\" and stp[i]<=0:\n",
    "            p2=[0,0-stp[i]]\n",
    "        elif move[i] == \"down\" and stp[i]>0:\n",
    "            p2 = [0,p2[1]-stp[i]]        \n",
    "        elif move[i] == \"left\" and stp[i]>0:\n",
    "            p2 = [p2[0]-stp[i],p2[1]]               \n",
    "        elif move[i] == \"left\" and stp[i]<=0:\n",
    "            p2 = [0-stp[i],p2[1]]\n",
    "        \n",
    "        else:\n",
    "            p2 = [p2[0]+stp[i],p2[1]]       \n",
    "        \n",
    "        dis = math.sqrt((p1[0] - p2[0])**2 + (p1[1] - p2[1])**2) \n",
    "      \n",
    "        dist=dist+dis\n",
    "    return (dist)         "
   ]
  },
  {
   "cell_type": "code",
   "execution_count": 93,
   "metadata": {},
   "outputs": [
    {
     "data": {
      "text/plain": [
       "20.0"
      ]
     },
     "execution_count": 93,
     "metadata": {},
     "output_type": "execute_result"
    }
   ],
   "source": [
    "step (5,5,5,5)\n",
    "\n"
   ]
  },
  {
   "cell_type": "code",
   "execution_count": 14,
   "metadata": {},
   "outputs": [
    {
     "name": "stdout",
     "output_type": "stream",
     "text": [
      "found\n"
     ]
    }
   ],
   "source": [
    "def srch(list1,data):\n",
    "    for i in range(len(list1)):\n",
    "        if list1[i]==data:\n",
    "            return True      \n",
    "    return False\n",
    "list1 = [1,2,3,\"a\",\"b\",\"ret\"]\n",
    "data=\"ret\"\n",
    "if srch(list1,data):\n",
    "    print(\"found\")\n",
    "else:\n",
    "    print(\"not found\")"
   ]
  },
  {
   "cell_type": "code",
   "execution_count": 3,
   "metadata": {},
   "outputs": [
    {
     "name": "stdout",
     "output_type": "stream",
     "text": [
      "its day\n"
     ]
    }
   ],
   "source": [
    "import time\n",
    "localtime = time.localtime()\n",
    "hr=localtime.tm_hour\n",
    "mnt=localtime.tm_min\n",
    "if hr>6 and hr<18:\n",
    "    print (\"its day\")\n",
    "else:\n",
    "    print (\"its night\")"
   ]
  },
  {
   "cell_type": "code",
   "execution_count": 9,
   "metadata": {},
   "outputs": [
    {
     "name": "stdout",
     "output_type": "stream",
     "text": [
      "2.8\n"
     ]
    }
   ],
   "source": [
    "import math\n",
    "p1=[1,2]\n",
    "p2=[3,4]\n",
    "dis = math.sqrt((p1[0] - p2[0])**2 + (p1[1] - p2[1])**2) \n",
    "print (round(dis,1))\n"
   ]
  },
  {
   "cell_type": "code",
   "execution_count": null,
   "metadata": {},
   "outputs": [],
   "source": [
    "import random\n",
    "import time\n",
    "\n",
    "option=input(\"Enter your options:-\")\n",
    "avl_bal = random.sample(range(1000,100000),1)\n",
    "if option == \"cash withdrawl\":\n",
    "    print (\"enter the amount needed:-\")\n",
    "elif option == \"cash credit\":\n",
    "    print (\"avilable balance is:-\",avl_bal)\n",
    "elif option == \"change password\":\n",
    "    print (\"enter your current password:\")\n",
    "    time.sleep(5)\n",
    "    print (\"enter OTP sent on registered mobile no\")\n",
    "    time.sleep(20)\n",
    "    print (\"enter your new password:\")\n",
    "    time.sleep(20)\n",
    "    print (\"your password has been reset\")\n",
    "else:\n",
    "    print(\"please enter your option\")\n",
    "    time.sleep(10)\n",
    "    print(\"Thank you for banking with us\")"
   ]
  },
  {
   "cell_type": "code",
   "execution_count": 34,
   "metadata": {},
   "outputs": [
    {
     "name": "stdout",
     "output_type": "stream",
     "text": [
      "[2030, 2065, 2100, 2135, 2170, 2205, 2240, 2275, 2310, 2345, 2380, 2415, 2450, 2485, 2520, 2555, 2590, 2625, 2660, 2695, 2730, 2765, 2800, 2835, 2870, 2905, 2940, 2975]\n"
     ]
    }
   ],
   "source": [
    "lst=[]\n",
    "for i in range(2000,3000+1):\n",
    "    if (i%7==0 ) and (i-5*(round(i/5))==0):\n",
    "        lst.append(i)\n",
    "print(lst)"
   ]
  },
  {
   "cell_type": "code",
   "execution_count": 36,
   "metadata": {},
   "outputs": [
    {
     "name": "stdout",
     "output_type": "stream",
     "text": [
      "enter the input:8\n",
      "40320\n"
     ]
    }
   ],
   "source": [
    "num=int(input(\"enter the input:\"))\n",
    "fact=1\n",
    "for i in range(1,num+1):\n",
    "    fact=fact*i\n",
    "print (fact)\n",
    "    "
   ]
  },
  {
   "cell_type": "code",
   "execution_count": 11,
   "metadata": {},
   "outputs": [
    {
     "data": {
      "text/plain": [
       "[18, 22, 24]"
      ]
     },
     "execution_count": 11,
     "metadata": {},
     "output_type": "execute_result"
    }
   ],
   "source": [
    "import math\n",
    "def srqt (d):\n",
    "    q=[]\n",
    "    for i in d:\n",
    "        c=50\n",
    "        h=30\n",
    "        q.append(round(math.sqrt((2*c*i)/h)))\n",
    "        #print (q)\n",
    "    return(q)\n",
    "d=[100,150,180]\n",
    "srqt(d)      "
   ]
  },
  {
   "cell_type": "code",
   "execution_count": null,
   "metadata": {},
   "outputs": [],
   "source": [
    "import random\n",
    "x=int(input(\"enter x:\"))\n",
    "y=int(input(\"enter y:\"))\n",
    "mat=[]\n",
    "\n",
    "for i in range(0,x,1):\n",
    "    mat.append([])\n",
    "    for j in range(0,y,1):\n",
    "        \n",
    "        mat[i].append(j)\n",
    "        \n",
    "print (mat)\n",
    "        \n"
   ]
  },
  {
   "cell_type": "code",
   "execution_count": null,
   "metadata": {},
   "outputs": [],
   "source": [
    "list1=[\"without\",\"hello\",\"bag\",\"world\"]\n",
    "print (sorted(list1))"
   ]
  },
  {
   "cell_type": "code",
   "execution_count": null,
   "metadata": {},
   "outputs": [],
   "source": [
    "list1=(\"Hello world,Practice makes perfect\")\n",
    "print (list1.upper())"
   ]
  },
  {
   "cell_type": "code",
   "execution_count": null,
   "metadata": {},
   "outputs": [],
   "source": [
    "unq=(\"hello world and practice makes perfect and hello world again\")\n",
    "uniq=unq.split()\n",
    "uniq=set(uniq)\n",
    "print (sorted(uniq))"
   ]
  },
  {
   "cell_type": "code",
   "execution_count": 5,
   "metadata": {},
   "outputs": [
    {
     "name": "stdout",
     "output_type": "stream",
     "text": [
      "Enter the Input Value : 0100,0011,1010,1001\n",
      "1010\n"
     ]
    }
   ],
   "source": [
    "item = []\n",
    "n = input(\"Enter the Input Value : \")\n",
    "num = [x for x in n.split(',')]\n",
    "for p in num:\n",
    "    x = int(p, 2)\n",
    "    if not x%5:\n",
    "        item.append(p)\n",
    "print(','.join(item))"
   ]
  },
  {
   "cell_type": "code",
   "execution_count": 8,
   "metadata": {},
   "outputs": [
    {
     "name": "stdout",
     "output_type": "stream",
     "text": [
      "Enter the Input Value : Hello world!\n",
      "Hello world!\n",
      "\n",
      "UPPER CASE  1\n",
      "\n",
      "LOWER CASE  9\n"
     ]
    }
   ],
   "source": [
    "n = input(\"Enter the Input Value : \")\n",
    "u=0\n",
    "l=0\n",
    "print(n)\n",
    "for i in n:\n",
    "    if i.isupper():\n",
    "        u=u+1\n",
    "    elif  i.islower():\n",
    "        l=l+1\n",
    "print(\"\\nUPPER CASE \",u)\n",
    "print(\"\\nLOWER CASE \",l)"
   ]
  },
  {
   "cell_type": "code",
   "execution_count": 24,
   "metadata": {},
   "outputs": [
    {
     "name": "stdout",
     "output_type": "stream",
     "text": [
      "15\n",
      "45.0\n",
      "45\n"
     ]
    }
   ],
   "source": [
    "import math\n",
    "list1=[1,2,3,4,5]\n",
    "print (sum(list1))\n",
    "\n",
    "# range(10)\n",
    "print (math.fsum(range(10)))\n",
    "print (sum(range(10)))\n"
   ]
  },
  {
   "cell_type": "code",
   "execution_count": null,
   "metadata": {},
   "outputs": [],
   "source": []
  }
 ],
 "metadata": {
  "kernelspec": {
   "display_name": "Python 3",
   "language": "python",
   "name": "python3"
  }
 },
 "nbformat": 4,
 "nbformat_minor": 2
}
