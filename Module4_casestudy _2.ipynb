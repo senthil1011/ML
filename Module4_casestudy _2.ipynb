{
 "cells": [
  {
   "cell_type": "code",
   "execution_count": 89,
   "metadata": {},
   "outputs": [],
   "source": [
    "# Reading of intial data set\n",
    "\n",
    "import pandas as pd\n",
    "import numpy as np\n",
    "df_dss=pd.read_csv(\"DSScoreTerm1.csv\")\n",
    "df_mth=pd.read_csv(\"MathScoreTerm1.csv\")\n",
    "df_phy=pd.read_csv(\"PhysicsScoreTerm1.csv\")\n"
   ]
  },
  {
   "cell_type": "code",
   "execution_count": 90,
   "metadata": {},
   "outputs": [
    {
     "data": {
      "text/plain": [
       "Name          False\n",
       "Score          True\n",
       "Age           False\n",
       "Ethinicity    False\n",
       "Subject       False\n",
       "Sex           False\n",
       "ID            False\n",
       "dtype: bool"
      ]
     },
     "execution_count": 90,
     "metadata": {},
     "output_type": "execute_result"
    }
   ],
   "source": [
    "# check for null values\n",
    "df_phy.isnull().any()"
   ]
  },
  {
   "cell_type": "code",
   "execution_count": 84,
   "metadata": {},
   "outputs": [
    {
     "name": "stdout",
     "output_type": "stream",
     "text": [
      "Score     68.36227\n",
      "Age       19.12187\n",
      "ID       300.00000\n",
      "dtype: float64 Score     74.347245\n",
      "Age       19.121870\n",
      "ID       300.000000\n",
      "dtype: float64 Score     70.602671\n",
      "Age       19.121870\n",
      "ID       300.000000\n",
      "dtype: float64\n"
     ]
    }
   ],
   "source": [
    "\n",
    "print (df_dss.mean(),df_mth.mean(),df_phy.mean())"
   ]
  },
  {
   "cell_type": "code",
   "execution_count": 91,
   "metadata": {},
   "outputs": [],
   "source": [
    "# Replacing null value columns with mean of the same.\n",
    "\n",
    "df_dss['Score']=df_dss['Score'].fillna(68)\n",
    "df_mth['Score']=df_mth['Score'].fillna(74)\n",
    "df_phy['Score']=df_phy['Score'].fillna(71)"
   ]
  },
  {
   "cell_type": "code",
   "execution_count": 92,
   "metadata": {},
   "outputs": [
    {
     "data": {
      "text/plain": [
       "Name          False\n",
       "Score         False\n",
       "Age           False\n",
       "Ethinicity    False\n",
       "Subject       False\n",
       "Sex           False\n",
       "ID            False\n",
       "dtype: bool"
      ]
     },
     "execution_count": 92,
     "metadata": {},
     "output_type": "execute_result"
    }
   ],
   "source": [
    "# Recheck after replacement\n",
    "df_phy.isnull().any()"
   ]
  },
  {
   "cell_type": "code",
   "execution_count": 20,
   "metadata": {},
   "outputs": [
    {
     "data": {
      "text/plain": [
       "Index(['Name', 'Score', 'Age', 'Ethinicity', 'Subject', 'Sex', 'ID'], dtype='object')"
      ]
     },
     "execution_count": 20,
     "metadata": {},
     "output_type": "execute_result"
    }
   ],
   "source": [
    "df_dss.columns\n"
   ]
  },
  {
   "cell_type": "code",
   "execution_count": 66,
   "metadata": {},
   "outputs": [
    {
     "data": {
      "text/plain": [
       "White American       288\n",
       "European American    156\n",
       "Hispanic             124\n",
       "African American      31\n",
       "Name: Ethinicity, dtype: int64"
      ]
     },
     "execution_count": 66,
     "metadata": {},
     "output_type": "execute_result"
    }
   ],
   "source": [
    "df_phy['Ethinicity'].value_counts()\n"
   ]
  },
  {
   "cell_type": "code",
   "execution_count": 22,
   "metadata": {},
   "outputs": [
    {
     "data": {
      "text/html": [
       "<div>\n",
       "<style scoped>\n",
       "    .dataframe tbody tr th:only-of-type {\n",
       "        vertical-align: middle;\n",
       "    }\n",
       "\n",
       "    .dataframe tbody tr th {\n",
       "        vertical-align: top;\n",
       "    }\n",
       "\n",
       "    .dataframe thead th {\n",
       "        text-align: right;\n",
       "    }\n",
       "</style>\n",
       "<table border=\"1\" class=\"dataframe\">\n",
       "  <thead>\n",
       "    <tr style=\"text-align: right;\">\n",
       "      <th></th>\n",
       "      <th>Name</th>\n",
       "      <th>Score</th>\n",
       "      <th>Age</th>\n",
       "      <th>Ethinicity</th>\n",
       "      <th>Subject</th>\n",
       "      <th>Sex</th>\n",
       "      <th>ID</th>\n",
       "    </tr>\n",
       "  </thead>\n",
       "  <tbody>\n",
       "    <tr>\n",
       "      <td>0</td>\n",
       "      <td>AI-KYUNG CHUNG</td>\n",
       "      <td>88.0</td>\n",
       "      <td>18</td>\n",
       "      <td>White American</td>\n",
       "      <td>Maths</td>\n",
       "      <td>M</td>\n",
       "      <td>1</td>\n",
       "    </tr>\n",
       "    <tr>\n",
       "      <td>1</td>\n",
       "      <td>ALAN HARVEY</td>\n",
       "      <td>85.0</td>\n",
       "      <td>19</td>\n",
       "      <td>European American</td>\n",
       "      <td>Maths</td>\n",
       "      <td>M</td>\n",
       "      <td>2</td>\n",
       "    </tr>\n",
       "    <tr>\n",
       "      <td>2</td>\n",
       "      <td>ALAN REYNAUD</td>\n",
       "      <td>45.0</td>\n",
       "      <td>19</td>\n",
       "      <td>European American</td>\n",
       "      <td>Maths</td>\n",
       "      <td>M</td>\n",
       "      <td>3</td>\n",
       "    </tr>\n",
       "    <tr>\n",
       "      <td>3</td>\n",
       "      <td>ALBERT CENDANA</td>\n",
       "      <td>82.0</td>\n",
       "      <td>18</td>\n",
       "      <td>White American</td>\n",
       "      <td>Maths</td>\n",
       "      <td>M</td>\n",
       "      <td>4</td>\n",
       "    </tr>\n",
       "    <tr>\n",
       "      <td>4</td>\n",
       "      <td>ALBERT HOLT JR</td>\n",
       "      <td>82.0</td>\n",
       "      <td>18</td>\n",
       "      <td>White American</td>\n",
       "      <td>Maths</td>\n",
       "      <td>F</td>\n",
       "      <td>5</td>\n",
       "    </tr>\n",
       "  </tbody>\n",
       "</table>\n",
       "</div>"
      ],
      "text/plain": [
       "             Name  Score  Age         Ethinicity Subject Sex  ID\n",
       "0  AI-KYUNG CHUNG   88.0   18     White American   Maths   M   1\n",
       "1     ALAN HARVEY   85.0   19  European American   Maths   M   2\n",
       "2    ALAN REYNAUD   45.0   19  European American   Maths   M   3\n",
       "3  ALBERT CENDANA   82.0   18     White American   Maths   M   4\n",
       "4  ALBERT HOLT JR   82.0   18     White American   Maths   F   5"
      ]
     },
     "execution_count": 22,
     "metadata": {},
     "output_type": "execute_result"
    }
   ],
   "source": [
    "df_mth.head()"
   ]
  },
  {
   "cell_type": "code",
   "execution_count": 95,
   "metadata": {},
   "outputs": [],
   "source": [
    "# Merging & rebaling variables 'Sex' & 'Ethinicity' with numerical values\n",
    "\n",
    "df_final=pd.concat([df_dss,df_mth,df_phy],ignore_index=True) # Merging\n",
    "df_final['Sex']=pd.get_dummies(df_final['Sex']) # Recoding sex 0 and 1\n",
    "df_final['Ethinicity']=df_final['Ethinicity'].astype('category') # changing 'Ethinicity' datatype from obj to cat\n",
    "df_final['Ethinicity']=df_final['Ethinicity'].cat.codes # recode 'Ethinicity'\n",
    "df_final=df_final.drop(['Name'],axis=1) # removing name to hide identity\n",
    "df_final.to_csv(\"ScoreFinal.csv\") \n"
   ]
  },
  {
   "cell_type": "code",
   "execution_count": 96,
   "metadata": {},
   "outputs": [
    {
     "data": {
      "text/html": [
       "<div>\n",
       "<style scoped>\n",
       "    .dataframe tbody tr th:only-of-type {\n",
       "        vertical-align: middle;\n",
       "    }\n",
       "\n",
       "    .dataframe tbody tr th {\n",
       "        vertical-align: top;\n",
       "    }\n",
       "\n",
       "    .dataframe thead th {\n",
       "        text-align: right;\n",
       "    }\n",
       "</style>\n",
       "<table border=\"1\" class=\"dataframe\">\n",
       "  <thead>\n",
       "    <tr style=\"text-align: right;\">\n",
       "      <th></th>\n",
       "      <th>Score</th>\n",
       "      <th>Age</th>\n",
       "      <th>Ethinicity</th>\n",
       "      <th>Subject</th>\n",
       "      <th>Sex</th>\n",
       "      <th>ID</th>\n",
       "    </tr>\n",
       "  </thead>\n",
       "  <tbody>\n",
       "    <tr>\n",
       "      <td>1782</td>\n",
       "      <td>87.0</td>\n",
       "      <td>18</td>\n",
       "      <td>1</td>\n",
       "      <td>Physics</td>\n",
       "      <td>1</td>\n",
       "      <td>585</td>\n",
       "    </tr>\n",
       "    <tr>\n",
       "      <td>1783</td>\n",
       "      <td>49.0</td>\n",
       "      <td>20</td>\n",
       "      <td>3</td>\n",
       "      <td>Physics</td>\n",
       "      <td>0</td>\n",
       "      <td>586</td>\n",
       "    </tr>\n",
       "    <tr>\n",
       "      <td>1784</td>\n",
       "      <td>81.0</td>\n",
       "      <td>19</td>\n",
       "      <td>3</td>\n",
       "      <td>Physics</td>\n",
       "      <td>0</td>\n",
       "      <td>587</td>\n",
       "    </tr>\n",
       "    <tr>\n",
       "      <td>1785</td>\n",
       "      <td>41.0</td>\n",
       "      <td>18</td>\n",
       "      <td>2</td>\n",
       "      <td>Physics</td>\n",
       "      <td>0</td>\n",
       "      <td>588</td>\n",
       "    </tr>\n",
       "    <tr>\n",
       "      <td>1786</td>\n",
       "      <td>84.0</td>\n",
       "      <td>19</td>\n",
       "      <td>1</td>\n",
       "      <td>Physics</td>\n",
       "      <td>0</td>\n",
       "      <td>589</td>\n",
       "    </tr>\n",
       "    <tr>\n",
       "      <td>1787</td>\n",
       "      <td>78.0</td>\n",
       "      <td>20</td>\n",
       "      <td>2</td>\n",
       "      <td>Physics</td>\n",
       "      <td>1</td>\n",
       "      <td>590</td>\n",
       "    </tr>\n",
       "    <tr>\n",
       "      <td>1788</td>\n",
       "      <td>61.0</td>\n",
       "      <td>19</td>\n",
       "      <td>3</td>\n",
       "      <td>Physics</td>\n",
       "      <td>0</td>\n",
       "      <td>591</td>\n",
       "    </tr>\n",
       "    <tr>\n",
       "      <td>1789</td>\n",
       "      <td>84.0</td>\n",
       "      <td>19</td>\n",
       "      <td>2</td>\n",
       "      <td>Physics</td>\n",
       "      <td>0</td>\n",
       "      <td>592</td>\n",
       "    </tr>\n",
       "    <tr>\n",
       "      <td>1790</td>\n",
       "      <td>87.0</td>\n",
       "      <td>20</td>\n",
       "      <td>2</td>\n",
       "      <td>Physics</td>\n",
       "      <td>0</td>\n",
       "      <td>593</td>\n",
       "    </tr>\n",
       "    <tr>\n",
       "      <td>1791</td>\n",
       "      <td>84.0</td>\n",
       "      <td>19</td>\n",
       "      <td>1</td>\n",
       "      <td>Physics</td>\n",
       "      <td>0</td>\n",
       "      <td>594</td>\n",
       "    </tr>\n",
       "    <tr>\n",
       "      <td>1792</td>\n",
       "      <td>41.0</td>\n",
       "      <td>19</td>\n",
       "      <td>3</td>\n",
       "      <td>Physics</td>\n",
       "      <td>1</td>\n",
       "      <td>595</td>\n",
       "    </tr>\n",
       "    <tr>\n",
       "      <td>1793</td>\n",
       "      <td>71.0</td>\n",
       "      <td>18</td>\n",
       "      <td>3</td>\n",
       "      <td>Physics</td>\n",
       "      <td>0</td>\n",
       "      <td>596</td>\n",
       "    </tr>\n",
       "    <tr>\n",
       "      <td>1794</td>\n",
       "      <td>49.0</td>\n",
       "      <td>20</td>\n",
       "      <td>3</td>\n",
       "      <td>Physics</td>\n",
       "      <td>0</td>\n",
       "      <td>597</td>\n",
       "    </tr>\n",
       "    <tr>\n",
       "      <td>1795</td>\n",
       "      <td>71.0</td>\n",
       "      <td>20</td>\n",
       "      <td>2</td>\n",
       "      <td>Physics</td>\n",
       "      <td>0</td>\n",
       "      <td>598</td>\n",
       "    </tr>\n",
       "    <tr>\n",
       "      <td>1796</td>\n",
       "      <td>69.0</td>\n",
       "      <td>19</td>\n",
       "      <td>2</td>\n",
       "      <td>Physics</td>\n",
       "      <td>0</td>\n",
       "      <td>599</td>\n",
       "    </tr>\n",
       "  </tbody>\n",
       "</table>\n",
       "</div>"
      ],
      "text/plain": [
       "      Score  Age  Ethinicity  Subject  Sex   ID\n",
       "1782   87.0   18           1  Physics    1  585\n",
       "1783   49.0   20           3  Physics    0  586\n",
       "1784   81.0   19           3  Physics    0  587\n",
       "1785   41.0   18           2  Physics    0  588\n",
       "1786   84.0   19           1  Physics    0  589\n",
       "1787   78.0   20           2  Physics    1  590\n",
       "1788   61.0   19           3  Physics    0  591\n",
       "1789   84.0   19           2  Physics    0  592\n",
       "1790   87.0   20           2  Physics    0  593\n",
       "1791   84.0   19           1  Physics    0  594\n",
       "1792   41.0   19           3  Physics    1  595\n",
       "1793   71.0   18           3  Physics    0  596\n",
       "1794   49.0   20           3  Physics    0  597\n",
       "1795   71.0   20           2  Physics    0  598\n",
       "1796   69.0   19           2  Physics    0  599"
      ]
     },
     "execution_count": 96,
     "metadata": {},
     "output_type": "execute_result"
    }
   ],
   "source": [
    "df_final.tail(15)"
   ]
  }
 ],
 "metadata": {
  "kernelspec": {
   "display_name": "Python 3",
   "language": "python",
   "name": "python3"
  },
  "language_info": {
   "codemirror_mode": {
    "name": "ipython",
    "version": 3
   },
   "file_extension": ".py",
   "mimetype": "text/x-python",
   "name": "python",
   "nbconvert_exporter": "python",
   "pygments_lexer": "ipython3",
   "version": "3.7.4"
  }
 },
 "nbformat": 4,
 "nbformat_minor": 2
}
